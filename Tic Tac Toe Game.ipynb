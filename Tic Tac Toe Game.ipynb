{
 "cells": [
  {
   "cell_type": "markdown",
   "metadata": {},
   "source": [
    "First We Create The function through which we can easily display the Tic Tac Toe Game Board to the Player."
   ]
  },
  {
   "cell_type": "code",
   "execution_count": 51,
   "metadata": {},
   "outputs": [],
   "source": [
    "from IPython.display import clear_output\n",
    "def display_board(board):\n",
    "    clear_output()\n",
    "    print('   |   |')\n",
    "    print(' '+board[7]+' | ' + board[8]+ ' | ' + board[9])\n",
    "    print('   |   |')\n",
    "    print('-----------')\n",
    "    print('   |   |')\n",
    "    print(' '+board[4]+' | ' + board[5]+ ' | ' + board[6])\n",
    "    print('   |   |')\n",
    "    print('-----------')\n",
    "    print('   |   |')\n",
    "    print(' '+board[1]+' | ' + board[2]+ ' | ' + board[3])\n",
    "    print('   |   |')"
   ]
  },
  {
   "cell_type": "markdown",
   "metadata": {},
   "source": [
    "Now We create the function which helps us to decide which player wants which marker from 'X' and 'O'"
   ]
  },
  {
   "cell_type": "code",
   "execution_count": 52,
   "metadata": {},
   "outputs": [],
   "source": [
    "def player_input():\n",
    "    marker = ''\n",
    "    while not(marker=='O' or marker =='X'):\n",
    "        marker = input(\"Player 1 --> You Want 'X' Or 'O'\").upper()\n",
    "   \n",
    "    if marker == 'X':\n",
    "        return ('X','O')\n",
    "    else:\n",
    "        return ('O','X')\n",
    "    "
   ]
  },
  {
   "cell_type": "markdown",
   "metadata": {},
   "source": [
    "Now We have to create the function which help player to put their marker to their desired position if position is available."
   ]
  },
  {
   "cell_type": "code",
   "execution_count": 53,
   "metadata": {},
   "outputs": [],
   "source": [
    "def place_marker(board, marker, position):\n",
    "    board[position]=marker"
   ]
  },
  {
   "cell_type": "markdown",
   "metadata": {},
   "source": [
    "Now we have to make a function which checks whether the player win after marking the position"
   ]
  },
  {
   "cell_type": "code",
   "execution_count": 54,
   "metadata": {},
   "outputs": [],
   "source": [
    "def win_check(board,mark):\n",
    "    return((board[7]==mark and board[8]==mark and board[9]==mark) or\n",
    "          (board[1]==mark and board[2]==mark and board[3]==mark) or\n",
    "          (board[4]==mark and board[5]==mark and board[6]==mark) or\n",
    "          (board[1]==mark and board[4]==mark and board[7]==mark) or\n",
    "          (board[2]==mark and board[5]==mark and board[8]==mark) or\n",
    "          (board[3]==mark and board[6]==mark and board[9]==mark) or\n",
    "          (board[1]==mark and board[5]==mark and board[9]==mark) or\n",
    "          (board[3]==mark and board[5]==mark and board[7]==mark))"
   ]
  },
  {
   "cell_type": "markdown",
   "metadata": {},
   "source": [
    "Now we have to decide which player should go first by using random function. Also use of sleep function to show which player's turn is this."
   ]
  },
  {
   "cell_type": "code",
   "execution_count": 55,
   "metadata": {},
   "outputs": [],
   "source": [
    "import random\n",
    "import time\n",
    "def choose_first():\n",
    "    if random.randint(0,1) == 0:\n",
    "        print('Player 1 will go first')\n",
    "        time.sleep(2)\n",
    "        return 'Player 1'\n",
    "    else:\n",
    "        print('Player 2 will go first')\n",
    "        time.sleep(2)\n",
    "        return 'Player 2'"
   ]
  },
  {
   "cell_type": "markdown",
   "metadata": {},
   "source": [
    "Now In next step we have to check whether the position which player wants to put their marker is empty or not. We have to make a function to check if there is a space or not."
   ]
  },
  {
   "cell_type": "code",
   "execution_count": 56,
   "metadata": {},
   "outputs": [],
   "source": [
    "def space_check(board, position):\n",
    "    return board[position]== ' '"
   ]
  },
  {
   "cell_type": "markdown",
   "metadata": {},
   "source": [
    "Now in next step we have to make a function which checks if all the spaces are taken and board is full or not."
   ]
  },
  {
   "cell_type": "code",
   "execution_count": 57,
   "metadata": {},
   "outputs": [],
   "source": [
    "def full_board_check(board):\n",
    "    for i in range(1,10):\n",
    "        if space_check(board,i):\n",
    "            return False\n",
    "    return True"
   ]
  },
  {
   "cell_type": "markdown",
   "metadata": {},
   "source": [
    "Now we have to make a function which takes input form user for next position between 1-9 for their marker.\n"
   ]
  },
  {
   "cell_type": "code",
   "execution_count": 58,
   "metadata": {},
   "outputs": [],
   "source": [
    "def player_choice(board):\n",
    "    position = ' '\n",
    "    while position not in '1 2 3 4 5 6 7 8 9'.split() or not space_check(board,int(position)):\n",
    "        position = input('Choose Your Position: (1-9)')\n",
    "    return int(position)    "
   ]
  },
  {
   "cell_type": "markdown",
   "metadata": {},
   "source": [
    "This is the function which asks user after finishing the game that user want to replay the game or not?"
   ]
  },
  {
   "cell_type": "code",
   "execution_count": 59,
   "metadata": {},
   "outputs": [],
   "source": [
    "def replay():\n",
    "    return input('Do You Want To Play This Game Again? Yes or No').lower().startswith('y')"
   ]
  },
  {
   "cell_type": "markdown",
   "metadata": {},
   "source": [
    "Now This Is The Main Part of the Game. We put together everything which we have defined above."
   ]
  },
  {
   "cell_type": "code",
   "execution_count": 60,
   "metadata": {},
   "outputs": [
    {
     "name": "stdout",
     "output_type": "stream",
     "text": [
      "   |   |\n",
      " X |   |  \n",
      "   |   |\n",
      "-----------\n",
      "   |   |\n",
      " O | X | O\n",
      "   |   |\n",
      "-----------\n",
      "   |   |\n",
      " X | O | X\n",
      "   |   |\n",
      "Congrates, Player 2, You Won the Game\n",
      "Do You Want To Play This Game Again? Yes or Non\n"
     ]
    }
   ],
   "source": [
    "print('Welcome To The Game: Tic Tac Toe')\n",
    "while True:\n",
    "        gBoard=[' ']*10\n",
    "        p1_marker,p2_marker=player_input()\n",
    "        turn= choose_first()\n",
    "        print(turn +'Will Go First')\n",
    "        \n",
    "        game_on = True\n",
    "        \n",
    "        while game_on:\n",
    "            if turn== 'Player 1':\n",
    "                display_board(gBoard)\n",
    "                position= player_choice(gBoard)\n",
    "                place_marker(gBoard,p1_marker,position)\n",
    "                \n",
    "                if win_check(gBoard, p1_marker):\n",
    "                    display_board(gBoard)\n",
    "                    print('Congrates, Player 1, You Won the Game')\n",
    "                    game_on= False\n",
    "                else:\n",
    "                    if full_board_check(gBoard):\n",
    "                        display_board(gBoard)\n",
    "                        print('No body wins, This is the TIE')\n",
    "                        break\n",
    "                    else:\n",
    "                        print('Turn of Player 2')\n",
    "                        time.sleep(2)\n",
    "                        turn='Player 2'\n",
    "            \n",
    "            else:\n",
    "                #Player 2 Turn\n",
    "                display_board(gBoard)\n",
    "                position= player_choice(gBoard)\n",
    "                place_marker(gBoard,p2_marker,position)\n",
    "                \n",
    "                if win_check(gBoard, p2_marker):\n",
    "                    display_board(gBoard)\n",
    "                    print('Congrates, Player 2, You Won the Game')\n",
    "                    game_on= False\n",
    "                else:\n",
    "                    if full_board_check(gBoard):\n",
    "                        display_board(gBoard)\n",
    "                        print('No body wins, This is the TIE')\n",
    "                        break\n",
    "                    else:\n",
    "                        print('Turn of Player 1')\n",
    "                        time.sleep(2)\n",
    "                        turn='Player 1'     \n",
    "                        \n",
    "        if not replay():\n",
    "            break"
   ]
  }
 ],
 "metadata": {
  "kernelspec": {
   "display_name": "Python 3.5 with Spark 1.6 (Unsupported)",
   "language": "python",
   "name": "python3"
  },
  "language_info": {
   "codemirror_mode": {
    "name": "ipython",
    "version": 3
   },
   "file_extension": ".py",
   "mimetype": "text/x-python",
   "name": "python",
   "nbconvert_exporter": "python",
   "pygments_lexer": "ipython3",
   "version": "3.5.4"
  }
 },
 "nbformat": 4,
 "nbformat_minor": 2
}
